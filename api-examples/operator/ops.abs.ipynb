{
 "cells": [
  {
   "cell_type": "markdown",
   "id": "e199828f",
   "metadata": {},
   "source": [
    "mindspore.ops.abs(input) -〉 Tensor\n",
    "- 输入：必须是mindspore的tensor类型。\n",
    "- 返回：tensor类型"
   ]
  },
  {
   "cell_type": "code",
   "execution_count": 22,
   "id": "de760097-9dce-4894-9a07-805082c43aac",
   "metadata": {
    "tags": []
   },
   "outputs": [
    {
     "name": "stdout",
     "output_type": "stream",
     "text": [
      "mindspore output ->  [1.2 1.1]\n",
      "torch     output ->  tensor([1.2000, 1.1000], dtype=torch.float64)\n",
      "mlx       output ->  array([1.2, 1.1], dtype=float32)\n",
      "jax       output ->  [1.2 1.1]\n"
     ]
    }
   ],
   "source": [
    "import numpy as np\n",
    "import mindspore as ms\n",
    "import torch\n",
    "import mlx.core as mlx\n",
    "import jax.numpy as jnp\n",
    "x = np.array([-1.2,1.1])\n",
    "\n",
    "y1 = ms.ops.abs(ms.tensor(x))\n",
    "y2 = torch.abs(torch.tensor(x))\n",
    "y3 = mlx.abs(x)\n",
    "y4 = jnp.abs(x)\n",
    "print ('mindspore output -> ',y1)\n",
    "print ('torch     output -> ',y2)\n",
    "print ('mlx       output -> ',y3)\n",
    "print ('jax       output -> ',y4)"
   ]
  },
  {
   "cell_type": "markdown",
   "id": "496d4ed8",
   "metadata": {},
   "source": [
    "ms和jax没有显示dtype以及类型"
   ]
  },
  {
   "cell_type": "markdown",
   "id": "3a9fa10f",
   "metadata": {},
   "source": [
    "下面是计算复数的例子"
   ]
  },
  {
   "cell_type": "code",
   "execution_count": 27,
   "id": "e6227cd2-c003-471a-bb8c-3ef79bf84b8a",
   "metadata": {
    "tags": []
   },
   "outputs": [
    {
     "name": "stdout",
     "output_type": "stream",
     "text": [
      "mindspore output ->  [1.62788206+0.j]\n",
      "torch     output ->  tensor([1.6279], dtype=torch.float64)\n",
      "mlx       output ->  array([1.62788], dtype=float32)\n",
      "jax       output ->  [1.6278821]\n"
     ]
    }
   ],
   "source": [
    "\n",
    "x1 = np.array([-1.2+1.1j])\n",
    "\n",
    "y1 = ms.ops.abs(ms.tensor(x1))\n",
    "y2 = torch.abs(torch.tensor(x1))\n",
    "y3 = mlx.abs(x1)\n",
    "y4 = jnp.abs(x1)\n",
    "print ('mindspore output -> ',y1)\n",
    "print ('torch     output -> ',y2)\n",
    "print ('mlx       output -> ',y3)\n",
    "print ('jax       output -> ',y4)"
   ]
  },
  {
   "cell_type": "markdown",
   "id": "4e3f92f8-a15b-47be-9a72-d54d1cd53a9b",
   "metadata": {},
   "source": [
    "\n",
    "后续更新报错信息建议优化"
   ]
  }
 ],
 "metadata": {
  "kernelspec": {
   "display_name": "Python 3 (ipykernel)",
   "language": "python",
   "name": "python3"
  },
  "language_info": {
   "codemirror_mode": {
    "name": "ipython",
    "version": 3
   },
   "file_extension": ".py",
   "mimetype": "text/x-python",
   "name": "python",
   "nbconvert_exporter": "python",
   "pygments_lexer": "ipython3",
   "version": "3.9.18"
  }
 },
 "nbformat": 4,
 "nbformat_minor": 5
}
