{
 "cells": [
  {
   "cell_type": "markdown",
   "id": "620b1bb9-d188-4916-8a88-392b301e78dd",
   "metadata": {},
   "source": [
    "## mindspore.ops.atan2(input, other) -〉 Tensor\n",
    "- 输入：input和other必须是mindspore的tensor或常数类型。\n",
    "- 返回：tensor类型，值的数据类型与input相同。"
   ]
  },
  {
   "cell_type": "code",
   "execution_count": 3,
   "id": "518c829d-80a5-4d98-b90c-09635ae35665",
   "metadata": {},
   "outputs": [
    {
     "name": "stdout",
     "output_type": "stream",
     "text": [
      "mindspore output ->  [ 0.25336698  1.4937533  -2.031883   -2.883469  ]\n",
      "torch     output ->  tensor([ 0.2534,  1.4938, -2.0319, -2.8835])\n",
      "torch     output ->  tensor([ 0.2534,  1.4938, -2.0319, -2.8835])\n"
     ]
    }
   ],
   "source": [
    "import mindspore as ms\n",
    "import torch\n",
    "input = [0.2341,  0.2539, -0.6256, -0.6448]\n",
    "other = [0.9041,  0.0196, -0.3108, -2.4423]\n",
    "\n",
    "y1 = ms.ops.atan2(ms.tensor(input), ms.tensor(other))\n",
    "y_out = torch.tensor([])\n",
    "y2 = torch.atan2(torch.tensor(input), torch.tensor(other), out=y_out)\n",
    "print ('mindspore output -> ',y1)\n",
    "print ('torch     output -> ',y2)\n",
    "print ('torch     output -> ',y_out)"
   ]
  },
  {
   "cell_type": "markdown",
   "id": "5b540cc3-bcac-45d8-815c-b4c9ae90c03b",
   "metadata": {},
   "source": [
    "ms没有显示类型。torch有出参和返回值两种方式，ms仅有返回值。"
   ]
  },
  {
   "cell_type": "markdown",
   "id": "8b325a1a-9f04-4173-83c9-fa2b9832023d",
   "metadata": {},
   "source": [
    "下面为输入为常数的例子："
   ]
  },
  {
   "cell_type": "code",
   "execution_count": 7,
   "id": "86248951-dd85-4314-a2f3-985021b9161a",
   "metadata": {},
   "outputs": [
    {
     "name": "stdout",
     "output_type": "stream",
     "text": [
      "mindspore output ->  1.2160907\n"
     ]
    }
   ],
   "source": [
    "input = 2.7\n",
    "other = 1\n",
    "y1 = ms.ops.atan2(ms.tensor(input), ms.tensor(other))\n",
    "print ('mindspore output -> ',y1)"
   ]
  },
  {
   "cell_type": "code",
   "execution_count": 8,
   "id": "401c61be-e986-4538-8d18-13206e920e22",
   "metadata": {},
   "outputs": [
    {
     "name": "stdout",
     "output_type": "stream",
     "text": [
      "torch     output ->  tensor(1.2161)\n"
     ]
    }
   ],
   "source": [
    "y2 = torch.atan2(torch.tensor(input), torch.tensor(other))\n",
    "print ('torch     output -> ',y2)"
   ]
  },
  {
   "cell_type": "code",
   "execution_count": null,
   "id": "af287fe3-5bd2-43c5-9ef5-edb1c31720e9",
   "metadata": {},
   "outputs": [],
   "source": []
  }
 ],
 "metadata": {
  "kernelspec": {
   "display_name": "Python 3 (ipykernel)",
   "language": "python",
   "name": "python3"
  },
  "language_info": {
   "codemirror_mode": {
    "name": "ipython",
    "version": 3
   },
   "file_extension": ".py",
   "mimetype": "text/x-python",
   "name": "python",
   "nbconvert_exporter": "python",
   "pygments_lexer": "ipython3",
   "version": "3.9.18"
  }
 },
 "nbformat": 4,
 "nbformat_minor": 5
}
