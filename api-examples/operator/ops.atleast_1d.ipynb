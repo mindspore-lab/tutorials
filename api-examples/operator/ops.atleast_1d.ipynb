{
 "cells": [
  {
   "cell_type": "markdown",
   "id": "620b1bb9-d188-4916-8a88-392b301e78dd",
   "metadata": {},
   "source": [
    "## mindspore.ops.atleast_1d(inputs) -〉 Tensor¶\n",
    "- 输入：mindspore的tensor类型或tensor列表。\n",
    "- 返回：tensor类型或tensor列表。"
   ]
  },
  {
   "cell_type": "code",
   "execution_count": 10,
   "id": "518c829d-80a5-4d98-b90c-09635ae35665",
   "metadata": {},
   "outputs": [
    {
     "name": "stdout",
     "output_type": "stream",
     "text": [
      "mindspore output -> [12.]\n",
      "torch     output -> tensor([12.], dtype=torch.float64)\n",
      "jax       output -> [12.]\n"
     ]
    }
   ],
   "source": [
    "import numpy as np\n",
    "import mindspore as ms\n",
    "import torch\n",
    "import jax.numpy as jnp\n",
    "input_1 = np.array(12.0)\n",
    "\n",
    "y1 = ms.ops.atleast_1d(ms.tensor(input_1))\n",
    "y2 = torch.atleast_1d(torch.tensor(input_1))\n",
    "y3 = jnp.atleast_1d(input_1)\n",
    "print ('mindspore output ->',y1)\n",
    "print ('torch     output ->',y2)\n",
    "print ('jax       output ->',y3)"
   ]
  },
  {
   "cell_type": "code",
   "execution_count": 24,
   "id": "5ed726b0-b4d9-409a-b9f2-80051a1ce05e",
   "metadata": {
    "scrolled": true
   },
   "outputs": [
    {
     "name": "stdout",
     "output_type": "stream",
     "text": [
      "mindspore output ->\n",
      " (Tensor(shape=[1], dtype=Float64, value= [ 1.20000000e+01]), Tensor(shape=[2, 2], dtype=Int64, value=\n",
      "[[1, 2],\n",
      " [8, 6]]))\n",
      "torch     output ->\n",
      " (tensor([12.], dtype=torch.float64), tensor([[1, 2],\n",
      "        [8, 6]]))\n",
      "jax       output ->\n",
      " [Array([12.], dtype=float32), Array([[1, 2],\n",
      "       [8, 6]], dtype=int32)]\n"
     ]
    }
   ],
   "source": [
    "input_2 = np.array([[1,2], [8, 6]])\n",
    "\n",
    "y1 = ms.ops.atleast_1d([ms.tensor(input_1), ms.tensor(input_2)])\n",
    "y2 = torch.atleast_1d([torch.tensor(input_1), torch.tensor(input_2)])\n",
    "y3 = jnp.atleast_1d(input_1, input_2)\n",
    "print ('mindspore output ->\\n',y1)\n",
    "print ('torch     output ->\\n',y2)\n",
    "print ('jax       output ->\\n',y3)"
   ]
  },
  {
   "cell_type": "markdown",
   "id": "5b540cc3-bcac-45d8-815c-b4c9ae90c03b",
   "metadata": {},
   "source": [
    "1、三种框架返回值相比，ms未把最重要的value放在首位，且对浮点数的显示负责，不太友好。  \n",
    "2、对多个tensor或array的输入，ms与torch都需要将多个tensor放入list中再传入。jax不需要。"
   ]
  }
 ],
 "metadata": {
  "kernelspec": {
   "display_name": "Python 3 (ipykernel)",
   "language": "python",
   "name": "python3"
  },
  "language_info": {
   "codemirror_mode": {
    "name": "ipython",
    "version": 3
   },
   "file_extension": ".py",
   "mimetype": "text/x-python",
   "name": "python",
   "nbconvert_exporter": "python",
   "pygments_lexer": "ipython3",
   "version": "3.9.18"
  }
 },
 "nbformat": 4,
 "nbformat_minor": 5
}
