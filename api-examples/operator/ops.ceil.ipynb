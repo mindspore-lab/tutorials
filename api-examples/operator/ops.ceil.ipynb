{
 "cells": [
  {
   "cell_type": "markdown",
   "id": "620b1bb9-d188-4916-8a88-392b301e78dd",
   "metadata": {},
   "source": [
    "## mindspore.ops.ceil(input) -〉 Tensor\n",
    "- 输入：mindspore的tensor类型。数据类型不同硬件有差异。\n",
    "    * Ascend: float16、float32、float64、bfloat16。\n",
    "    * GPU/CPU: float16、float32、float64。\n",
    "- 返回：tensor类型。"
   ]
  },
  {
   "cell_type": "code",
   "execution_count": 1,
   "id": "518c829d-80a5-4d98-b90c-09635ae35665",
   "metadata": {},
   "outputs": [
    {
     "name": "stdout",
     "output_type": "stream",
     "text": [
      "mindspore output ->\n",
      " [[ 3. -1. -3.]\n",
      " [ 1.  4. -1.]\n",
      " [ 4.  5. -1.]]\n",
      "torch     output ->\n",
      " tensor([[ 3., -1., -3.],\n",
      "        [ 1.,  4., -1.],\n",
      "        [ 4.,  5., -1.]], dtype=torch.float64)\n",
      "jax       output ->\n",
      " [[ 3. -1. -3.]\n",
      " [ 1.  4. -1.]\n",
      " [ 4.  5. -1.]]\n"
     ]
    }
   ],
   "source": [
    "import numpy as np\n",
    "import mindspore as ms\n",
    "import torch\n",
    "import jax.numpy as jnp\n",
    "input = np.array([[ 2.55, -1.87, -3.76],\n",
    "                  [ 0.48,  3.85, -1.94],\n",
    "                  [ 3.2,   4.56, -1.43]])\n",
    "\n",
    "y1 = ms.ops.ceil(ms.tensor(input))\n",
    "y2 = torch.ceil(torch.tensor(input))\n",
    "y3 = jnp.ceil(input)\n",
    "print ('mindspore output ->\\n',y1)\n",
    "print ('torch     output ->\\n',y2)\n",
    "print ('jax       output ->\\n',y3)"
   ]
  },
  {
   "cell_type": "code",
   "execution_count": 18,
   "id": "5ed726b0-b4d9-409a-b9f2-80051a1ce05e",
   "metadata": {},
   "outputs": [
    {
     "name": "stdout",
     "output_type": "stream",
     "text": [
      "mindspore output ->\n",
      " "
     ]
    },
    {
     "ename": "TypeError",
     "evalue": "For primitive[Ceil], the input argument[input_x] must be a type of {BFloat16, Float16, Float32, Float64}, but got Bool.\n\n----------------------------------------------------\n- C++ Call Stack: (For framework developers)\n----------------------------------------------------\nmindspore/core/utils/check_convert_utils.cc:1062 CheckSubClass\n",
     "output_type": "error",
     "traceback": [
      "\u001b[0;31m---------------------------------------------------------------------------\u001b[0m",
      "\u001b[0;31mTypeError\u001b[0m                                 Traceback (most recent call last)",
      "Cell \u001b[0;32mIn[18], line 3\u001b[0m\n\u001b[1;32m      1\u001b[0m \u001b[38;5;28minput\u001b[39m \u001b[38;5;241m=\u001b[39m np\u001b[38;5;241m.\u001b[39marray([\u001b[38;5;28;01mTrue\u001b[39;00m, \u001b[38;5;28;01mTrue\u001b[39;00m, \u001b[38;5;28;01mFalse\u001b[39;00m])\n\u001b[1;32m      2\u001b[0m y1 \u001b[38;5;241m=\u001b[39m ms\u001b[38;5;241m.\u001b[39mops\u001b[38;5;241m.\u001b[39mceil(ms\u001b[38;5;241m.\u001b[39mtensor(\u001b[38;5;28minput\u001b[39m))\n\u001b[0;32m----> 3\u001b[0m \u001b[38;5;28;43mprint\u001b[39;49m\u001b[43m \u001b[49m\u001b[43m(\u001b[49m\u001b[38;5;124;43m'\u001b[39;49m\u001b[38;5;124;43mmindspore output ->\u001b[39;49m\u001b[38;5;130;43;01m\\n\u001b[39;49;00m\u001b[38;5;124;43m'\u001b[39;49m\u001b[43m,\u001b[49m\u001b[43my1\u001b[49m\u001b[43m)\u001b[49m\n",
      "File \u001b[0;32m/opt/anaconda3/envs/mindspore/lib/python3.9/site-packages/mindspore/common/_stub_tensor.py:48\u001b[0m, in \u001b[0;36m_stub_method.<locals>.fun\u001b[0;34m(*arg, **kwargs)\u001b[0m\n\u001b[1;32m     46\u001b[0m \u001b[38;5;28;01mdef\u001b[39;00m \u001b[38;5;21mfun\u001b[39m(\u001b[38;5;241m*\u001b[39marg, \u001b[38;5;241m*\u001b[39m\u001b[38;5;241m*\u001b[39mkwargs):\n\u001b[1;32m     47\u001b[0m     stub \u001b[38;5;241m=\u001b[39m arg[\u001b[38;5;241m0\u001b[39m]\n\u001b[0;32m---> 48\u001b[0m     arg \u001b[38;5;241m=\u001b[39m (\u001b[43mstub\u001b[49m\u001b[38;5;241;43m.\u001b[39;49m\u001b[43mstub_sync\u001b[49m\u001b[43m(\u001b[49m\u001b[43m)\u001b[49m,) \u001b[38;5;241m+\u001b[39m arg[\u001b[38;5;241m1\u001b[39m:]\n\u001b[1;32m     49\u001b[0m     \u001b[38;5;28;01mreturn\u001b[39;00m method(\u001b[38;5;241m*\u001b[39marg, \u001b[38;5;241m*\u001b[39m\u001b[38;5;241m*\u001b[39mkwargs)\n",
      "File \u001b[0;32m/opt/anaconda3/envs/mindspore/lib/python3.9/site-packages/mindspore/common/_stub_tensor.py:159\u001b[0m, in \u001b[0;36mStubTensor.stub_sync\u001b[0;34m(self)\u001b[0m\n\u001b[1;32m    157\u001b[0m \u001b[38;5;250m\u001b[39m\u001b[38;5;124;03m\"\"\"sync real tensor.\"\"\"\u001b[39;00m\n\u001b[1;32m    158\u001b[0m \u001b[38;5;28;01mif\u001b[39;00m \u001b[38;5;28mself\u001b[39m\u001b[38;5;241m.\u001b[39mstub:\n\u001b[0;32m--> 159\u001b[0m     val \u001b[38;5;241m=\u001b[39m \u001b[38;5;28;43mself\u001b[39;49m\u001b[38;5;241;43m.\u001b[39;49m\u001b[43mstub\u001b[49m\u001b[38;5;241;43m.\u001b[39;49m\u001b[43mget_value\u001b[49m\u001b[43m(\u001b[49m\u001b[43m)\u001b[49m\n\u001b[1;32m    160\u001b[0m     \u001b[38;5;28mself\u001b[39m\u001b[38;5;241m.\u001b[39mtensor \u001b[38;5;241m=\u001b[39m Tensor(val, internal\u001b[38;5;241m=\u001b[39m\u001b[38;5;28;01mTrue\u001b[39;00m)\n\u001b[1;32m    161\u001b[0m     \u001b[38;5;28;01mif\u001b[39;00m \u001b[38;5;28mhasattr\u001b[39m(\u001b[38;5;28mself\u001b[39m, \u001b[38;5;124m\"\u001b[39m\u001b[38;5;124mmember_cache\u001b[39m\u001b[38;5;124m\"\u001b[39m):\n",
      "\u001b[0;31mTypeError\u001b[0m: For primitive[Ceil], the input argument[input_x] must be a type of {BFloat16, Float16, Float32, Float64}, but got Bool.\n\n----------------------------------------------------\n- C++ Call Stack: (For framework developers)\n----------------------------------------------------\nmindspore/core/utils/check_convert_utils.cc:1062 CheckSubClass\n"
     ]
    }
   ],
   "source": [
    "input = np.array([True, True, False])\n",
    "y1 = ms.ops.ceil(ms.tensor(input))\n",
    "print ('mindspore output ->\\n',y1)"
   ]
  },
  {
   "cell_type": "code",
   "execution_count": 8,
   "id": "481c9da4-90ee-4e41-a437-daebb24911e4",
   "metadata": {},
   "outputs": [
    {
     "ename": "RuntimeError",
     "evalue": "\"ceil_vml_cpu\" not implemented for 'Bool'",
     "output_type": "error",
     "traceback": [
      "\u001b[0;31m---------------------------------------------------------------------------\u001b[0m",
      "\u001b[0;31mRuntimeError\u001b[0m                              Traceback (most recent call last)",
      "Cell \u001b[0;32mIn[8], line 1\u001b[0m\n\u001b[0;32m----> 1\u001b[0m y2 \u001b[38;5;241m=\u001b[39m \u001b[43mtorch\u001b[49m\u001b[38;5;241;43m.\u001b[39;49m\u001b[43mceil\u001b[49m\u001b[43m(\u001b[49m\u001b[43mtorch\u001b[49m\u001b[38;5;241;43m.\u001b[39;49m\u001b[43mtensor\u001b[49m\u001b[43m(\u001b[49m\u001b[38;5;28;43minput\u001b[39;49m\u001b[43m)\u001b[49m\u001b[43m)\u001b[49m\n",
      "\u001b[0;31mRuntimeError\u001b[0m: \"ceil_vml_cpu\" not implemented for 'Bool'"
     ]
    }
   ],
   "source": [
    "y2 = torch.ceil(torch.tensor(input))"
   ]
  },
  {
   "cell_type": "code",
   "execution_count": 2,
   "id": "5455426a-ea6b-46c7-8867-fd98d32dcc99",
   "metadata": {},
   "outputs": [
    {
     "name": "stdout",
     "output_type": "stream",
     "text": [
      "jax output ->\n",
      " [[ 3. -1. -3.]\n",
      " [ 1.  4. -1.]\n",
      " [ 4.  5. -1.]]\n"
     ]
    }
   ],
   "source": [
    "y3 = jnp.ceil(input)\n",
    "print ('jax output ->\\n',y3)"
   ]
  },
  {
   "cell_type": "markdown",
   "id": "5b540cc3-bcac-45d8-815c-b4c9ae90c03b",
   "metadata": {},
   "source": [
    "当输入的数据类型为bool型时：  \n",
    "1、三种框架均未标注支持bool型，实际上jax支持，ms与torch不支持。  \n",
    "2、ms如果不加print(y1)则不报错，加上print后报错行在print，有点奇怪。  "
   ]
  }
 ],
 "metadata": {
  "kernelspec": {
   "display_name": "Python 3 (ipykernel)",
   "language": "python",
   "name": "python3"
  },
  "language_info": {
   "codemirror_mode": {
    "name": "ipython",
    "version": 3
   },
   "file_extension": ".py",
   "mimetype": "text/x-python",
   "name": "python",
   "nbconvert_exporter": "python",
   "pygments_lexer": "ipython3",
   "version": "3.9.18"
  }
 },
 "nbformat": 4,
 "nbformat_minor": 5
}
