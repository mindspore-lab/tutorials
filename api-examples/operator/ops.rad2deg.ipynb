{
 "cells": [
  {
   "cell_type": "markdown",
   "id": "620b1bb9-d188-4916-8a88-392b301e78dd",
   "metadata": {},
   "source": [
    "## mindspore.ops.rad2deg(x) -〉 Tensor\n",
    "- 输入：x必须为mindspore的tensor, 数据类型为float16、float32或float64。\n",
    "- 返回：mindspore的tensor, 数据类型与input一样。"
   ]
  },
  {
   "cell_type": "code",
   "execution_count": 1,
   "id": "518c829d-80a5-4d98-b90c-09635ae35665",
   "metadata": {},
   "outputs": [
    {
     "name": "stdout",
     "output_type": "stream",
     "text": [
      "mindspore output ->\n",
      " [[ 180.02333422 -180.02333422]\n",
      " [ 359.98937266 -359.98937266]\n",
      " [  89.95437133  -89.95437133]]\n",
      "torch     output ->\n",
      " tensor([[ 180.0233, -180.0233],\n",
      "        [ 359.9894, -359.9894],\n",
      "        [  89.9544,  -89.9544]], dtype=torch.float64)\n",
      "jax       output ->\n",
      " [[ 180.02335 -180.02335]\n",
      " [ 359.98938 -359.98938]\n",
      " [  89.95438  -89.95438]]\n"
     ]
    }
   ],
   "source": [
    "import numpy as np\n",
    "import mindspore as ms\n",
    "import torch\n",
    "import jax.numpy as jnp\n",
    "\n",
    "input = np.array([[3.142, -3.142], [6.283, -6.283], [1.570, -1.570]])\n",
    "\n",
    "y1 = ms.ops.rad2deg(ms.tensor(input))\n",
    "y2 = torch.rad2deg(torch.tensor(input))\n",
    "y3 = jnp.rad2deg(input)\n",
    "print ('mindspore output ->\\n',y1)\n",
    "print ('torch     output ->\\n',y2)\n",
    "print ('jax       output ->\\n',y3)"
   ]
  },
  {
   "cell_type": "markdown",
   "id": "00564cac-e16c-4328-a4a4-a16a61f5053a",
   "metadata": {},
   "source": [
    "ms和jax不会输出类型。"
   ]
  },
  {
   "cell_type": "code",
   "execution_count": 2,
   "id": "0fe9f4e0-90af-4528-a8c1-0d35a867a339",
   "metadata": {},
   "outputs": [
    {
     "name": "stdout",
     "output_type": "stream",
     "text": [
      "torch     output ->\n",
      " tensor([[ 180.0233, -180.0233],\n",
      "        [ 359.9894, -359.9894],\n",
      "        [  89.9544,  -89.9544]])\n"
     ]
    }
   ],
   "source": [
    "out2 = torch.tensor([])\n",
    "\n",
    "torch.rad2deg(torch.tensor(input), out = out2)\n",
    "print ('torch     output ->\\n',out2)"
   ]
  },
  {
   "cell_type": "markdown",
   "id": "b258b498-7633-4d9d-b687-90267987b16b",
   "metadata": {},
   "source": [
    "torch还提供了出参的方式，ms未支持。"
   ]
  },
  {
   "cell_type": "code",
   "execution_count": 3,
   "id": "9fcbe1fa-7af2-4f85-9c27-c318cb2e7017",
   "metadata": {},
   "outputs": [
    {
     "ename": "TypeError",
     "evalue": "The input x must be tensor",
     "output_type": "error",
     "traceback": [
      "\u001b[0;31m---------------------------------------------------------------------------\u001b[0m",
      "\u001b[0;31mTypeError\u001b[0m                                 Traceback (most recent call last)",
      "\u001b[0;32m/var/folders/wy/5yzfdb6x7pvfxh89zcmf_w780000gn/T/ipykernel_66050/472530176.py\u001b[0m in \u001b[0;36m?\u001b[0;34m()\u001b[0m\n\u001b[0;32m----> 1\u001b[0;31m \u001b[0my1\u001b[0m \u001b[0;34m=\u001b[0m \u001b[0mms\u001b[0m\u001b[0;34m.\u001b[0m\u001b[0mops\u001b[0m\u001b[0;34m.\u001b[0m\u001b[0mrad2deg\u001b[0m\u001b[0;34m(\u001b[0m\u001b[0minput\u001b[0m\u001b[0;34m)\u001b[0m\u001b[0;34m\u001b[0m\u001b[0;34m\u001b[0m\u001b[0m\n\u001b[0m",
      "\u001b[0;32m/opt/anaconda3/envs/mindspore/lib/python3.9/site-packages/mindspore/ops/function/math_func.py\u001b[0m in \u001b[0;36m?\u001b[0;34m(x)\u001b[0m\n\u001b[1;32m   5477\u001b[0m          [ 180.02333  -89.95438]]\n\u001b[1;32m   5478\u001b[0m \u001b[0;34m\u001b[0m\u001b[0m\n\u001b[1;32m   5479\u001b[0m     \"\"\"\n\u001b[1;32m   5480\u001b[0m     \u001b[0;32mif\u001b[0m \u001b[0;32mnot\u001b[0m \u001b[0misinstance\u001b[0m\u001b[0;34m(\u001b[0m\u001b[0mx\u001b[0m\u001b[0;34m,\u001b[0m \u001b[0;34m(\u001b[0m\u001b[0mTensor\u001b[0m\u001b[0;34m,\u001b[0m \u001b[0mTensor_\u001b[0m\u001b[0;34m)\u001b[0m\u001b[0;34m)\u001b[0m\u001b[0;34m:\u001b[0m\u001b[0;34m\u001b[0m\u001b[0;34m\u001b[0m\u001b[0m\n\u001b[0;32m-> 5481\u001b[0;31m         \u001b[0;32mraise\u001b[0m \u001b[0mTypeError\u001b[0m\u001b[0;34m(\u001b[0m\u001b[0;34m\"The input x must be tensor\"\u001b[0m\u001b[0;34m)\u001b[0m\u001b[0;34m\u001b[0m\u001b[0;34m\u001b[0m\u001b[0m\n\u001b[0m\u001b[1;32m   5482\u001b[0m     \u001b[0mx_dtype\u001b[0m \u001b[0;34m=\u001b[0m \u001b[0mdtype_\u001b[0m\u001b[0;34m(\u001b[0m\u001b[0mx\u001b[0m\u001b[0;34m)\u001b[0m\u001b[0;34m\u001b[0m\u001b[0;34m\u001b[0m\u001b[0m\n\u001b[1;32m   5483\u001b[0m     \u001b[0m_check_input_dtype\u001b[0m\u001b[0;34m(\u001b[0m\u001b[0;34m\"x\"\u001b[0m\u001b[0;34m,\u001b[0m \u001b[0mx_dtype\u001b[0m\u001b[0;34m,\u001b[0m \u001b[0;34m[\u001b[0m\u001b[0mmstype\u001b[0m\u001b[0;34m.\u001b[0m\u001b[0mfloat16\u001b[0m\u001b[0;34m,\u001b[0m \u001b[0mmstype\u001b[0m\u001b[0;34m.\u001b[0m\u001b[0mfloat32\u001b[0m\u001b[0;34m,\u001b[0m \u001b[0mmstype\u001b[0m\u001b[0;34m.\u001b[0m\u001b[0mfloat64\u001b[0m\u001b[0;34m]\u001b[0m\u001b[0;34m,\u001b[0m \u001b[0;34m\"\"\u001b[0m\u001b[0;34m)\u001b[0m\u001b[0;34m\u001b[0m\u001b[0;34m\u001b[0m\u001b[0m\n\u001b[1;32m   5484\u001b[0m     \u001b[0;32mif\u001b[0m \u001b[0mx_dtype\u001b[0m \u001b[0;34m==\u001b[0m \u001b[0mmstype\u001b[0m\u001b[0;34m.\u001b[0m\u001b[0mfloat16\u001b[0m\u001b[0;34m:\u001b[0m\u001b[0;34m\u001b[0m\u001b[0;34m\u001b[0m\u001b[0m\n",
      "\u001b[0;31mTypeError\u001b[0m: The input x must be tensor"
     ]
    }
   ],
   "source": [
    "y1 = ms.ops.rad2deg(input)"
   ]
  },
  {
   "cell_type": "code",
   "execution_count": 4,
   "id": "1050b2d7-b6e4-4cce-90ed-9797c0dba5e9",
   "metadata": {},
   "outputs": [
    {
     "ename": "TypeError",
     "evalue": "rad2deg(): argument 'input' (position 1) must be Tensor, not numpy.ndarray",
     "output_type": "error",
     "traceback": [
      "\u001b[0;31m---------------------------------------------------------------------------\u001b[0m",
      "\u001b[0;31mTypeError\u001b[0m                                 Traceback (most recent call last)",
      "Cell \u001b[0;32mIn[4], line 1\u001b[0m\n\u001b[0;32m----> 1\u001b[0m y2 \u001b[38;5;241m=\u001b[39m \u001b[43mtorch\u001b[49m\u001b[38;5;241;43m.\u001b[39;49m\u001b[43mrad2deg\u001b[49m\u001b[43m(\u001b[49m\u001b[38;5;28;43minput\u001b[39;49m\u001b[43m)\u001b[49m\n",
      "\u001b[0;31mTypeError\u001b[0m: rad2deg(): argument 'input' (position 1) must be Tensor, not numpy.ndarray"
     ]
    }
   ],
   "source": [
    "y2 = torch.rad2deg(input)"
   ]
  },
  {
   "cell_type": "code",
   "execution_count": 5,
   "id": "1701d368-1e09-40f9-833e-122dcf6446d4",
   "metadata": {},
   "outputs": [
    {
     "ename": "TypeError",
     "evalue": "Cannot interpret 'torch.float64' as a data type",
     "output_type": "error",
     "traceback": [
      "\u001b[0;31m---------------------------------------------------------------------------\u001b[0m",
      "\u001b[0;31mTypeError\u001b[0m                                 Traceback (most recent call last)",
      "Cell \u001b[0;32mIn[5], line 1\u001b[0m\n\u001b[0;32m----> 1\u001b[0m y3 \u001b[38;5;241m=\u001b[39m \u001b[43mjnp\u001b[49m\u001b[38;5;241;43m.\u001b[39;49m\u001b[43mrad2deg\u001b[49m\u001b[43m(\u001b[49m\u001b[43mtorch\u001b[49m\u001b[38;5;241;43m.\u001b[39;49m\u001b[43mtensor\u001b[49m\u001b[43m(\u001b[49m\u001b[38;5;28;43minput\u001b[39;49m\u001b[43m)\u001b[49m\u001b[43m)\u001b[49m\n",
      "    \u001b[0;31m[... skipping hidden 8 frame]\u001b[0m\n",
      "File \u001b[0;32m/opt/anaconda3/envs/mindspore/lib/python3.9/site-packages/jax/_src/dtypes.py:347\u001b[0m, in \u001b[0;36missubdtype\u001b[0;34m(a, b)\u001b[0m\n\u001b[1;32m    330\u001b[0m \u001b[38;5;250m\u001b[39m\u001b[38;5;124;03m\"\"\"Returns True if first argument is a typecode lower/equal in type hierarchy.\u001b[39;00m\n\u001b[1;32m    331\u001b[0m \n\u001b[1;32m    332\u001b[0m \u001b[38;5;124;03mThis is like :func:`numpy.issubdtype`, but can handle dtype extensions such as\u001b[39;00m\n\u001b[1;32m    333\u001b[0m \u001b[38;5;124;03m:obj:`jax.dtypes.bfloat16` and `jax.dtypes.prng_key`.\u001b[39;00m\n\u001b[1;32m    334\u001b[0m \u001b[38;5;124;03m\"\"\"\u001b[39;00m\n\u001b[1;32m    335\u001b[0m \u001b[38;5;66;03m# Main departures from np.issubdtype are:\u001b[39;00m\n\u001b[1;32m    336\u001b[0m \u001b[38;5;66;03m# - \"extended\" dtypes (like prng key types) are not normal numpy dtypes, so we\u001b[39;00m\n\u001b[1;32m    337\u001b[0m \u001b[38;5;66;03m#   need to handle them specifically. However, their scalar types do conform to\u001b[39;00m\n\u001b[0;32m   (...)\u001b[0m\n\u001b[1;32m    344\u001b[0m \u001b[38;5;66;03m# unhashable (e.g. custom objects with a dtype attribute). The following check is\u001b[39;00m\n\u001b[1;32m    345\u001b[0m \u001b[38;5;66;03m# fast and covers the majority of calls to this function within JAX library code.\u001b[39;00m\n\u001b[1;32m    346\u001b[0m \u001b[38;5;28;01mreturn\u001b[39;00m _issubdtype_cached(\n\u001b[0;32m--> 347\u001b[0m   a \u001b[38;5;28;01mif\u001b[39;00m \u001b[38;5;28misinstance\u001b[39m(a, (\u001b[38;5;28mtype\u001b[39m, np\u001b[38;5;241m.\u001b[39mdtype, ExtendedDType)) \u001b[38;5;28;01melse\u001b[39;00m \u001b[43mnp\u001b[49m\u001b[38;5;241;43m.\u001b[39;49m\u001b[43mdtype\u001b[49m\u001b[43m(\u001b[49m\u001b[43ma\u001b[49m\u001b[43m)\u001b[49m,  \u001b[38;5;66;03m# type: ignore[arg-type]\u001b[39;00m\n\u001b[1;32m    348\u001b[0m   b \u001b[38;5;28;01mif\u001b[39;00m \u001b[38;5;28misinstance\u001b[39m(b, (\u001b[38;5;28mtype\u001b[39m, np\u001b[38;5;241m.\u001b[39mdtype, ExtendedDType)) \u001b[38;5;28;01melse\u001b[39;00m np\u001b[38;5;241m.\u001b[39mdtype(b),  \u001b[38;5;66;03m# type: ignore[arg-type]\u001b[39;00m\n\u001b[1;32m    349\u001b[0m )\n",
      "\u001b[0;31mTypeError\u001b[0m: Cannot interpret 'torch.float64' as a data type"
     ]
    }
   ],
   "source": [
    "y3 = jnp.rad2deg(torch.tensor(input))"
   ]
  },
  {
   "cell_type": "markdown",
   "id": "59517714-1ef1-43d2-ac0e-7b84d4ab1c65",
   "metadata": {},
   "source": [
    "当输入类型不正确时，报错信息torch最简洁明确。建议ms优化。"
   ]
  }
 ],
 "metadata": {
  "kernelspec": {
   "display_name": "Python 3 (ipykernel)",
   "language": "python",
   "name": "python3"
  },
  "language_info": {
   "codemirror_mode": {
    "name": "ipython",
    "version": 3
   },
   "file_extension": ".py",
   "mimetype": "text/x-python",
   "name": "python",
   "nbconvert_exporter": "python",
   "pygments_lexer": "ipython3",
   "version": "3.9.18"
  }
 },
 "nbformat": 4,
 "nbformat_minor": 5
}
