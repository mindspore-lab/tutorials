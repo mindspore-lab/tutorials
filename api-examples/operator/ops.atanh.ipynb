{
 "cells": [
  {
   "cell_type": "markdown",
   "id": "620b1bb9-d188-4916-8a88-392b301e78dd",
   "metadata": {},
   "source": [
    "## mindspore.ops.atanh(input) -〉 Tensor\n",
    "- 输入：input必须是mindspore的tensor类型。\n",
    "- 返回：tensor类型，值的数据类型与input相同。\n",
    "- 输入的数据类型与返回数据类型如下：\n",
    "    * bool、int8、uint8、int16、int32、int64 -> float32\n",
    "    * 其他类型 -> 与输入类型相同"
   ]
  },
  {
   "cell_type": "code",
   "execution_count": 8,
   "id": "518c829d-80a5-4d98-b90c-09635ae35665",
   "metadata": {},
   "outputs": [
    {
     "name": "stdout",
     "output_type": "stream",
     "text": [
      "mindspore output ->  [ 0.23852281  0.25957716 -0.73415375 -0.7663466 ]\n",
      "torch     output ->  tensor([ 0.2385,  0.2596, -0.7342, -0.7663])\n",
      "torch     output ->  tensor([ 0.2385,  0.2596, -0.7342, -0.7663])\n"
     ]
    }
   ],
   "source": [
    "import mindspore as ms\n",
    "import torch\n",
    "input = [0.2341,  0.2539, -0.6256, -0.6448]\n",
    "\n",
    "y1 = ms.ops.atanh(ms.tensor(input))\n",
    "y_out = torch.tensor([])\n",
    "y2 = torch.atanh(torch.tensor(input), out=y_out)\n",
    "print ('mindspore output -> ',y1)\n",
    "print ('torch     output -> ',y2)\n",
    "print ('torch     output -> ',y_out)"
   ]
  },
  {
   "cell_type": "markdown",
   "id": "5b540cc3-bcac-45d8-815c-b4c9ae90c03b",
   "metadata": {},
   "source": [
    "ms没有显示类型。torch有出参和返回值两种方式，ms仅有返回值。"
   ]
  },
  {
   "cell_type": "code",
   "execution_count": 5,
   "id": "0a73f7e9-780e-4dc5-81cb-1789ac7df520",
   "metadata": {
    "scrolled": true
   },
   "outputs": [
    {
     "name": "stdout",
     "output_type": "stream",
     "text": [
      "torch     output ->  "
     ]
    },
    {
     "ename": "TypeError",
     "evalue": "Select CPU operator[Atanh] fail! Unsupported data type!\nThe supported data types are input[Complex64], output[Complex64];input[Complex128], output[Complex128];input[Float32], output[Float32];input[Float64], output[Float64];,\n but get input[[const vector]{Int64}], output[[const vector]{Float32}].\n\n----------------------------------------------------\n- C++ Call Stack: (For framework developers)\n----------------------------------------------------\nmindspore/ops/kernel/common/pyboost/pyboost_utils.cc:556 GetKernelAttr\n",
     "output_type": "error",
     "traceback": [
      "\u001b[0;31m---------------------------------------------------------------------------\u001b[0m",
      "\u001b[0;31mTypeError\u001b[0m                                 Traceback (most recent call last)",
      "Cell \u001b[0;32mIn[5], line 4\u001b[0m\n\u001b[1;32m      1\u001b[0m \u001b[38;5;28minput\u001b[39m \u001b[38;5;241m=\u001b[39m [\u001b[38;5;241m-\u001b[39m\u001b[38;5;241m2\u001b[39m, \u001b[38;5;241m3\u001b[39m, \u001b[38;5;241m4\u001b[39m]\n\u001b[1;32m      3\u001b[0m y1 \u001b[38;5;241m=\u001b[39m ms\u001b[38;5;241m.\u001b[39mops\u001b[38;5;241m.\u001b[39matanh(ms\u001b[38;5;241m.\u001b[39mtensor(\u001b[38;5;28minput\u001b[39m))\n\u001b[0;32m----> 4\u001b[0m \u001b[38;5;28;43mprint\u001b[39;49m\u001b[43m \u001b[49m\u001b[43m(\u001b[49m\u001b[38;5;124;43m'\u001b[39;49m\u001b[38;5;124;43mtorch     output -> \u001b[39;49m\u001b[38;5;124;43m'\u001b[39;49m\u001b[43m,\u001b[49m\u001b[43my1\u001b[49m\u001b[43m)\u001b[49m\n",
      "File \u001b[0;32m/opt/anaconda3/envs/mindspore/lib/python3.9/site-packages/mindspore/common/_stub_tensor.py:48\u001b[0m, in \u001b[0;36m_stub_method.<locals>.fun\u001b[0;34m(*arg, **kwargs)\u001b[0m\n\u001b[1;32m     46\u001b[0m \u001b[38;5;28;01mdef\u001b[39;00m \u001b[38;5;21mfun\u001b[39m(\u001b[38;5;241m*\u001b[39marg, \u001b[38;5;241m*\u001b[39m\u001b[38;5;241m*\u001b[39mkwargs):\n\u001b[1;32m     47\u001b[0m     stub \u001b[38;5;241m=\u001b[39m arg[\u001b[38;5;241m0\u001b[39m]\n\u001b[0;32m---> 48\u001b[0m     arg \u001b[38;5;241m=\u001b[39m (\u001b[43mstub\u001b[49m\u001b[38;5;241;43m.\u001b[39;49m\u001b[43mstub_sync\u001b[49m\u001b[43m(\u001b[49m\u001b[43m)\u001b[49m,) \u001b[38;5;241m+\u001b[39m arg[\u001b[38;5;241m1\u001b[39m:]\n\u001b[1;32m     49\u001b[0m     \u001b[38;5;28;01mreturn\u001b[39;00m method(\u001b[38;5;241m*\u001b[39marg, \u001b[38;5;241m*\u001b[39m\u001b[38;5;241m*\u001b[39mkwargs)\n",
      "File \u001b[0;32m/opt/anaconda3/envs/mindspore/lib/python3.9/site-packages/mindspore/common/_stub_tensor.py:159\u001b[0m, in \u001b[0;36mStubTensor.stub_sync\u001b[0;34m(self)\u001b[0m\n\u001b[1;32m    157\u001b[0m \u001b[38;5;250m\u001b[39m\u001b[38;5;124;03m\"\"\"sync real tensor.\"\"\"\u001b[39;00m\n\u001b[1;32m    158\u001b[0m \u001b[38;5;28;01mif\u001b[39;00m \u001b[38;5;28mself\u001b[39m\u001b[38;5;241m.\u001b[39mstub:\n\u001b[0;32m--> 159\u001b[0m     val \u001b[38;5;241m=\u001b[39m \u001b[38;5;28;43mself\u001b[39;49m\u001b[38;5;241;43m.\u001b[39;49m\u001b[43mstub\u001b[49m\u001b[38;5;241;43m.\u001b[39;49m\u001b[43mget_value\u001b[49m\u001b[43m(\u001b[49m\u001b[43m)\u001b[49m\n\u001b[1;32m    160\u001b[0m     \u001b[38;5;28mself\u001b[39m\u001b[38;5;241m.\u001b[39mtensor \u001b[38;5;241m=\u001b[39m Tensor(val, internal\u001b[38;5;241m=\u001b[39m\u001b[38;5;28;01mTrue\u001b[39;00m)\n\u001b[1;32m    161\u001b[0m     \u001b[38;5;28;01mif\u001b[39;00m \u001b[38;5;28mhasattr\u001b[39m(\u001b[38;5;28mself\u001b[39m, \u001b[38;5;124m\"\u001b[39m\u001b[38;5;124mmember_cache\u001b[39m\u001b[38;5;124m\"\u001b[39m):\n",
      "\u001b[0;31mTypeError\u001b[0m: Select CPU operator[Atanh] fail! Unsupported data type!\nThe supported data types are input[Complex64], output[Complex64];input[Complex128], output[Complex128];input[Float32], output[Float32];input[Float64], output[Float64];,\n but get input[[const vector]{Int64}], output[[const vector]{Float32}].\n\n----------------------------------------------------\n- C++ Call Stack: (For framework developers)\n----------------------------------------------------\nmindspore/ops/kernel/common/pyboost/pyboost_utils.cc:556 GetKernelAttr\n"
     ]
    }
   ],
   "source": [
    "input = [-2, 3, 4]\n",
    "\n",
    "y1 = ms.ops.atanh(ms.tensor(input))\n",
    "print ('torch     output -> ',y1)"
   ]
  },
  {
   "cell_type": "code",
   "execution_count": 6,
   "id": "401c61be-e986-4538-8d18-13206e920e22",
   "metadata": {},
   "outputs": [
    {
     "name": "stdout",
     "output_type": "stream",
     "text": [
      "torch     output ->  tensor([nan, nan, nan])\n"
     ]
    }
   ],
   "source": [
    "y2 = torch.atanh(torch.tensor(input))\n",
    "print ('torch     output -> ',y2)"
   ]
  },
  {
   "cell_type": "markdown",
   "id": "19468ca4-df0c-493f-b064-d694933210bb",
   "metadata": {},
   "source": [
    "ms不支持输入为int，torch支持。"
   ]
  }
 ],
 "metadata": {
  "kernelspec": {
   "display_name": "Python 3 (ipykernel)",
   "language": "python",
   "name": "python3"
  },
  "language_info": {
   "codemirror_mode": {
    "name": "ipython",
    "version": 3
   },
   "file_extension": ".py",
   "mimetype": "text/x-python",
   "name": "python",
   "nbconvert_exporter": "python",
   "pygments_lexer": "ipython3",
   "version": "3.9.18"
  }
 },
 "nbformat": 4,
 "nbformat_minor": 5
}
