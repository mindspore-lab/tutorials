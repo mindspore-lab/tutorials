{
 "cells": [
  {
   "cell_type": "markdown",
   "id": "620b1bb9-d188-4916-8a88-392b301e78dd",
   "metadata": {},
   "source": [
    "## mindspore.ops.any(nput, axis=None, keep_dims=False) -〉 Tensor¶\n",
    "- 输入：\n",
    "    * input必须是mindspore的tensor类型, 数据类型为bool。\n",
    "    * axis必须是int, tuple(int), list(int), Tensor。\n",
    "    * keepdims必须是bool型。\n",
    "- 返回：tensor类型，值的数据类型为bool。"
   ]
  },
  {
   "cell_type": "markdown",
   "id": "8619a2c6-b855-448e-b8ae-51f3e8374558",
   "metadata": {},
   "source": [
    "[官网API文档](https://www.mindspore.cn/docs/zh-CN/master/api_python/ops/mindspore.ops.any.html#mindspore.ops.any)：“通过对维度中所有元素进行“逻辑或”来减少 input 的维度。也可以沿 axis 减少 input 的维度。通过控制 keep_dims 来确定输出和输入的维度是否相同。”  \n",
    "建议修正，实际为“对于给定维度中的每一行输入，如果该行中的任何元素计算为 True，则返回 True，否则返回 False。”"
   ]
  },
  {
   "cell_type": "code",
   "execution_count": 4,
   "id": "518c829d-80a5-4d98-b90c-09635ae35665",
   "metadata": {},
   "outputs": [
    {
     "name": "stdout",
     "output_type": "stream",
     "text": [
      "mindspore output ->  True\n",
      "torch     output ->  tensor(True)\n",
      "jax       output ->  True\n"
     ]
    }
   ],
   "source": [
    "import numpy as np\n",
    "import mindspore as ms\n",
    "import torch\n",
    "import jax.numpy as jnp\n",
    "\n",
    "input = np.array([[True, True, True, False],\n",
    "                 [True, False, True, False],\n",
    "                 [True, True, False, False]])\n",
    "\n",
    "y1 = ms.ops.any(ms.tensor(input))\n",
    "y2 = torch.any(torch.tensor(input))\n",
    "y3 = jnp.any(input)\n",
    "print ('mindspore output -> ',y1)\n",
    "print ('torch     output -> ',y2)\n",
    "print ('jax       output -> ',y3)"
   ]
  },
  {
   "cell_type": "code",
   "execution_count": 5,
   "id": "ca464784",
   "metadata": {},
   "outputs": [
    {
     "name": "stdout",
     "output_type": "stream",
     "text": [
      "mindspore output ->  [ True  True  True False]\n",
      "torch     output ->  tensor([ True,  True,  True, False])\n",
      "jax       output ->  [ True  True  True False]\n"
     ]
    }
   ],
   "source": [
    "y1 = ms.ops.any(ms.tensor(input), 0)\n",
    "y2 = torch.any(torch.tensor(input), 0)\n",
    "y3 = jnp.any(input, 0)\n",
    "print ('mindspore output -> ',y1)\n",
    "print ('torch     output -> ',y2)\n",
    "print ('jax       output -> ',y3)"
   ]
  },
  {
   "cell_type": "code",
   "execution_count": 7,
   "id": "efdfe56c",
   "metadata": {},
   "outputs": [
    {
     "name": "stdout",
     "output_type": "stream",
     "text": [
      "mindspore output ->  [[ True  True  True False]]\n",
      "torch     output ->  tensor([[ True,  True,  True, False]])\n",
      "jax       output ->  [[ True  True  True False]]\n"
     ]
    }
   ],
   "source": [
    "y1 = ms.ops.any(ms.tensor(input), 0, keep_dims=True)\n",
    "y2 = torch.any(torch.tensor(input), 0, keepdim = True)\n",
    "y3 = jnp.any(input, 0, keepdims=True)\n",
    "print ('mindspore output -> ',y1)\n",
    "print ('torch     output -> ',y2)\n",
    "print ('jax       output -> ',y3)"
   ]
  },
  {
   "cell_type": "markdown",
   "id": "5b540cc3-bcac-45d8-815c-b4c9ae90c03b",
   "metadata": {},
   "source": [
    "三种AI框架输出一致。ms与jax没有显示类型。  \n",
    "三者的是否保留维度参数名都不同，分别为keep_dims、keepdim、keepdims。"
   ]
  },
  {
   "cell_type": "markdown",
   "id": "b562a1f9-c38a-4e41-a5b0-335fceb95dd5",
   "metadata": {},
   "source": [
    "当input为int时(torch与jax文档中都没有规定input必须为bool)："
   ]
  },
  {
   "cell_type": "code",
   "execution_count": 13,
   "id": "0a73f7e9-780e-4dc5-81cb-1789ac7df520",
   "metadata": {
    "scrolled": true
   },
   "outputs": [
    {
     "name": "stdout",
     "output_type": "stream",
     "text": [
      "mindspore output ->  False\n",
      "torch     output ->  tensor(True)\n",
      "jax       output ->  True\n"
     ]
    }
   ],
   "source": [
    "input = np.array([[0, 0, 5], [0, 0, 0], [130, 24, 15]])\n",
    "\n",
    "y1 = ms.ops.any(ms.tensor(input))\n",
    "y2 = torch.any(torch.tensor(input))\n",
    "y3 = jnp.any(input)\n",
    "print ('mindspore output -> ',y1)\n",
    "print ('torch     output -> ',y2)\n",
    "print ('jax       output -> ',y3)"
   ]
  },
  {
   "cell_type": "markdown",
   "id": "fbc31874-6e74-4a35-b11b-9ea5738a76a0",
   "metadata": {},
   "source": [
    "虽然ms规定input须为bool, 但实际未报错。  \n",
    "ms的返回值不正确。"
   ]
  }
 ],
 "metadata": {
  "kernelspec": {
   "display_name": "Python 3 (ipykernel)",
   "language": "python",
   "name": "python3"
  },
  "language_info": {
   "codemirror_mode": {
    "name": "ipython",
    "version": 3
   },
   "file_extension": ".py",
   "mimetype": "text/x-python",
   "name": "python",
   "nbconvert_exporter": "python",
   "pygments_lexer": "ipython3",
   "version": "3.9.18"
  }
 },
 "nbformat": 4,
 "nbformat_minor": 5
}
