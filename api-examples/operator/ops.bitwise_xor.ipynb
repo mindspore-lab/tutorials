{
 "cells": [
  {
   "cell_type": "markdown",
   "id": "620b1bb9-d188-4916-8a88-392b301e78dd",
   "metadata": {},
   "source": [
    "## mindspore.ops.bitwise_xor(input, other) -〉 Tensor\n",
    "- 输入：\n",
    "    * input必须是mindspore的tensor类型。\n",
    "    * other必须是mindspore的tensor类型, 数据类型与 input 一致。\n",
    "- 返回：tensor类型，数据类型与input一致。"
   ]
  },
  {
   "cell_type": "code",
   "execution_count": 1,
   "id": "518c829d-80a5-4d98-b90c-09635ae35665",
   "metadata": {},
   "outputs": [
    {
     "name": "stdout",
     "output_type": "stream",
     "text": [
      "mindspore output -> [-2 -2  0]\n",
      "torch     output -> tensor([-2, -2,  0])\n",
      "jax       output -> [-2 -2  0]\n"
     ]
    }
   ],
   "source": [
    "import numpy as np\n",
    "import mindspore as ms\n",
    "import torch\n",
    "import jax.numpy as jnp\n",
    "input = np.array([-1, -2, 3])\n",
    "other = np.array([1, 0, 3])\n",
    "\n",
    "y1 = ms.ops.bitwise_xor(ms.tensor(input), ms.tensor(other))\n",
    "y2 = torch.bitwise_xor(torch.tensor(input), torch.tensor(other))\n",
    "y3 = jnp.bitwise_xor(input, other)\n",
    "print ('mindspore output ->',y1)\n",
    "print ('torch     output ->',y2)\n",
    "print ('jax       output ->',y3)"
   ]
  },
  {
   "cell_type": "code",
   "execution_count": 2,
   "id": "5ed726b0-b4d9-409a-b9f2-80051a1ce05e",
   "metadata": {},
   "outputs": [
    {
     "name": "stdout",
     "output_type": "stream",
     "text": [
      "mindspore output -> [ True False False]\n",
      "torch     output -> tensor([ True, False, False])\n",
      "jax       output -> [ True False False]\n"
     ]
    }
   ],
   "source": [
    "input = np.array([True, True, False])\n",
    "other = np.array([False, True, False])\n",
    "y1 = ms.ops.bitwise_xor(ms.tensor(input), ms.tensor(other))\n",
    "y2 = torch.bitwise_xor(torch.tensor(input), torch.tensor(other))\n",
    "y3 = jnp.bitwise_xor(input, other)\n",
    "print ('mindspore output ->',y1)\n",
    "print ('torch     output ->',y2)\n",
    "print ('jax       output ->',y3)"
   ]
  },
  {
   "cell_type": "markdown",
   "id": "5b540cc3-bcac-45d8-815c-b4c9ae90c03b",
   "metadata": {},
   "source": [
    "当Tensor的数据类型为int或bool型时：  \n",
    "三种框架输出一致，ms与jax没有显示类型。"
   ]
  },
  {
   "cell_type": "markdown",
   "id": "0fa9e846-419e-4e3c-924e-1fa100f47ac2",
   "metadata": {},
   "source": [
    "当other为int时:"
   ]
  },
  {
   "cell_type": "code",
   "execution_count": 3,
   "id": "6ef7f317-a0f4-49c9-b16c-2a62beba332f",
   "metadata": {},
   "outputs": [
    {
     "name": "stdout",
     "output_type": "stream",
     "text": [
      "mindspore output -> [0 0 1]\n",
      "torch     output -> tensor([0, 0, 1])\n",
      "jax       output -> [0 0 1]\n"
     ]
    }
   ],
   "source": [
    "y1 = ms.ops.bitwise_xor(ms.tensor(input), 1)\n",
    "y2 = torch.bitwise_xor(torch.tensor(input), 1)\n",
    "y3 = jnp.bitwise_xor(input, 1)\n",
    "print ('mindspore output ->',y1)\n",
    "print ('torch     output ->',y2)\n",
    "print ('jax       output ->',y3)"
   ]
  },
  {
   "cell_type": "markdown",
   "id": "d042a829-6d29-44a1-b70b-e9395dc928c3",
   "metadata": {},
   "source": [
    "三种框架都可支持，但均为未表明。"
   ]
  },
  {
   "cell_type": "code",
   "execution_count": 4,
   "id": "b4201782",
   "metadata": {
    "scrolled": true
   },
   "outputs": [
    {
     "ename": "TypeError",
     "evalue": "The primitive[BitwiseXor]'s input arguments[x, y] must be all tensor and those type must be same. But got input argument[x]:External\n But got input argument[y]:External\nValid type list: {Tensor[Bool], Tensor[Int16], Tensor[Int32], Tensor[Int64], Tensor[Int8], Tensor[UInt16], Tensor[UInt32], Tensor[UInt64], Tensor[UInt8]}.\n\n----------------------------------------------------\n- C++ Call Stack: (For framework developers)\n----------------------------------------------------\nmindspore/core/utils/check_convert_utils.cc:786 CheckTensorTypeSame\n",
     "output_type": "error",
     "traceback": [
      "\u001b[0;31m---------------------------------------------------------------------------\u001b[0m",
      "\u001b[0;31mTypeError\u001b[0m                                 Traceback (most recent call last)",
      "Cell \u001b[0;32mIn[4], line 1\u001b[0m\n\u001b[0;32m----> 1\u001b[0m y1 \u001b[38;5;241m=\u001b[39m \u001b[43mms\u001b[49m\u001b[38;5;241;43m.\u001b[39;49m\u001b[43mops\u001b[49m\u001b[38;5;241;43m.\u001b[39;49m\u001b[43mbitwise_xor\u001b[49m\u001b[43m(\u001b[49m\u001b[38;5;28;43minput\u001b[39;49m\u001b[43m,\u001b[49m\u001b[43m \u001b[49m\u001b[43mother\u001b[49m\u001b[43m)\u001b[49m\n",
      "File \u001b[0;32m/opt/anaconda3/envs/mindspore/lib/python3.9/site-packages/mindspore/ops/function/math_func.py:2097\u001b[0m, in \u001b[0;36mbitwise_xor\u001b[0;34m(input, other)\u001b[0m\n\u001b[1;32m   2060\u001b[0m \u001b[38;5;28;01mdef\u001b[39;00m \u001b[38;5;21mbitwise_xor\u001b[39m(\u001b[38;5;28minput\u001b[39m, other):\n\u001b[1;32m   2061\u001b[0m \u001b[38;5;250m    \u001b[39m\u001b[38;5;124mr\u001b[39m\u001b[38;5;124;03m\"\"\"\u001b[39;00m\n\u001b[1;32m   2062\u001b[0m \u001b[38;5;124;03m    Returns bitwise `xor` of two tensors element-wise.\u001b[39;00m\n\u001b[1;32m   2063\u001b[0m \n\u001b[0;32m   (...)\u001b[0m\n\u001b[1;32m   2095\u001b[0m \u001b[38;5;124;03m        [ 0  1  0  0 -2  3  2]\u001b[39;00m\n\u001b[1;32m   2096\u001b[0m \u001b[38;5;124;03m    \"\"\"\u001b[39;00m\n\u001b[0;32m-> 2097\u001b[0m     \u001b[38;5;28;01mreturn\u001b[39;00m \u001b[43mbitwise_xor_\u001b[49m\u001b[43m(\u001b[49m\u001b[38;5;28;43minput\u001b[39;49m\u001b[43m,\u001b[49m\u001b[43m \u001b[49m\u001b[43mother\u001b[49m\u001b[43m)\u001b[49m\n",
      "File \u001b[0;32m/opt/anaconda3/envs/mindspore/lib/python3.9/site-packages/mindspore/ops/primitive.py:405\u001b[0m, in \u001b[0;36mPrimitive.__call__\u001b[0;34m(self, *args)\u001b[0m\n\u001b[1;32m    403\u001b[0m \u001b[38;5;28;01mif\u001b[39;00m should_elim:\n\u001b[1;32m    404\u001b[0m     \u001b[38;5;28;01mreturn\u001b[39;00m output\n\u001b[0;32m--> 405\u001b[0m \u001b[38;5;28;01mreturn\u001b[39;00m \u001b[43m_run_op\u001b[49m\u001b[43m(\u001b[49m\u001b[38;5;28;43mself\u001b[39;49m\u001b[43m,\u001b[49m\u001b[43m \u001b[49m\u001b[38;5;28;43mself\u001b[39;49m\u001b[38;5;241;43m.\u001b[39;49m\u001b[43mname\u001b[49m\u001b[43m,\u001b[49m\u001b[43m \u001b[49m\u001b[43margs\u001b[49m\u001b[43m)\u001b[49m\n",
      "File \u001b[0;32m/opt/anaconda3/envs/mindspore/lib/python3.9/site-packages/mindspore/ops/primitive.py:1022\u001b[0m, in \u001b[0;36m_run_op\u001b[0;34m(obj, op_name, args)\u001b[0m\n\u001b[1;32m   1020\u001b[0m \u001b[38;5;250m\u001b[39m\u001b[38;5;124;03m\"\"\"Single op execution function supported by ge in PyNative mode.\"\"\"\u001b[39;00m\n\u001b[1;32m   1021\u001b[0m \u001b[38;5;28;01mif\u001b[39;00m \u001b[38;5;129;01mnot\u001b[39;00m _RunOpHook\u001b[38;5;241m.\u001b[39mcurrent:\n\u001b[0;32m-> 1022\u001b[0m     stub \u001b[38;5;241m=\u001b[39m \u001b[43m_pynative_executor\u001b[49m\u001b[38;5;241;43m.\u001b[39;49m\u001b[43mrun_op_async\u001b[49m\u001b[43m(\u001b[49m\u001b[43mobj\u001b[49m\u001b[43m,\u001b[49m\u001b[43m \u001b[49m\u001b[43mop_name\u001b[49m\u001b[43m,\u001b[49m\u001b[43m \u001b[49m\u001b[43margs\u001b[49m\u001b[43m)\u001b[49m\n\u001b[1;32m   1023\u001b[0m     \u001b[38;5;28;01mreturn\u001b[39;00m _convert_stub(stub)\n\u001b[1;32m   1024\u001b[0m \u001b[38;5;28;01mreturn\u001b[39;00m _RunOpHook\u001b[38;5;241m.\u001b[39mcurrent\u001b[38;5;241m.\u001b[39mhook(obj, args)\n",
      "File \u001b[0;32m/opt/anaconda3/envs/mindspore/lib/python3.9/site-packages/mindspore/common/api.py:1423\u001b[0m, in \u001b[0;36m_PyNativeExecutor.run_op_async\u001b[0;34m(self, *args)\u001b[0m\n\u001b[1;32m   1413\u001b[0m \u001b[38;5;28;01mdef\u001b[39;00m \u001b[38;5;21mrun_op_async\u001b[39m(\u001b[38;5;28mself\u001b[39m, \u001b[38;5;241m*\u001b[39margs):\n\u001b[1;32m   1414\u001b[0m \u001b[38;5;250m    \u001b[39m\u001b[38;5;124;03m\"\"\"\u001b[39;00m\n\u001b[1;32m   1415\u001b[0m \u001b[38;5;124;03m    Run single op async.\u001b[39;00m\n\u001b[1;32m   1416\u001b[0m \n\u001b[0;32m   (...)\u001b[0m\n\u001b[1;32m   1421\u001b[0m \u001b[38;5;124;03m        StubNode, result of run op.\u001b[39;00m\n\u001b[1;32m   1422\u001b[0m \u001b[38;5;124;03m    \"\"\"\u001b[39;00m\n\u001b[0;32m-> 1423\u001b[0m     \u001b[38;5;28;01mreturn\u001b[39;00m \u001b[38;5;28;43mself\u001b[39;49m\u001b[38;5;241;43m.\u001b[39;49m\u001b[43m_executor\u001b[49m\u001b[38;5;241;43m.\u001b[39;49m\u001b[43mrun_op_async\u001b[49m\u001b[43m(\u001b[49m\u001b[38;5;241;43m*\u001b[39;49m\u001b[43margs\u001b[49m\u001b[43m)\u001b[49m\n",
      "\u001b[0;31mTypeError\u001b[0m: The primitive[BitwiseXor]'s input arguments[x, y] must be all tensor and those type must be same. But got input argument[x]:External\n But got input argument[y]:External\nValid type list: {Tensor[Bool], Tensor[Int16], Tensor[Int32], Tensor[Int64], Tensor[Int8], Tensor[UInt16], Tensor[UInt32], Tensor[UInt64], Tensor[UInt8]}.\n\n----------------------------------------------------\n- C++ Call Stack: (For framework developers)\n----------------------------------------------------\nmindspore/core/utils/check_convert_utils.cc:786 CheckTensorTypeSame\n"
     ]
    }
   ],
   "source": [
    "y1 = ms.ops.bitwise_xor(input, other)"
   ]
  },
  {
   "cell_type": "code",
   "execution_count": 5,
   "id": "cceca433",
   "metadata": {
    "scrolled": true
   },
   "outputs": [
    {
     "ename": "TypeError",
     "evalue": "bitwise_xor() received an invalid combination of arguments - got (numpy.ndarray, numpy.ndarray), but expected one of:\n * (Tensor input, Tensor other, *, Tensor out)\n * (Number self, Tensor other)\n      didn't match because some of the arguments have invalid types: (!numpy.ndarray!, !numpy.ndarray!)\n * (Tensor input, Number other, *, Tensor out)\n",
     "output_type": "error",
     "traceback": [
      "\u001b[0;31m---------------------------------------------------------------------------\u001b[0m",
      "\u001b[0;31mTypeError\u001b[0m                                 Traceback (most recent call last)",
      "Cell \u001b[0;32mIn[5], line 1\u001b[0m\n\u001b[0;32m----> 1\u001b[0m y2 \u001b[38;5;241m=\u001b[39m \u001b[43mtorch\u001b[49m\u001b[38;5;241;43m.\u001b[39;49m\u001b[43mbitwise_xor\u001b[49m\u001b[43m(\u001b[49m\u001b[38;5;28;43minput\u001b[39;49m\u001b[43m,\u001b[49m\u001b[43m \u001b[49m\u001b[43mother\u001b[49m\u001b[43m)\u001b[49m\n",
      "\u001b[0;31mTypeError\u001b[0m: bitwise_xor() received an invalid combination of arguments - got (numpy.ndarray, numpy.ndarray), but expected one of:\n * (Tensor input, Tensor other, *, Tensor out)\n * (Number self, Tensor other)\n      didn't match because some of the arguments have invalid types: (!numpy.ndarray!, !numpy.ndarray!)\n * (Tensor input, Number other, *, Tensor out)\n"
     ]
    }
   ],
   "source": [
    "y2 = torch.bitwise_xor(input, other)"
   ]
  },
  {
   "cell_type": "markdown",
   "id": "6fb1beed-8c35-41bd-9dce-91bcf511f5a0",
   "metadata": {},
   "source": [
    "当input为np.array时，ms与torch不支持。  \n",
    "报错信息ms较长，建议优化仅保留ValueError的有效信息。"
   ]
  }
 ],
 "metadata": {
  "kernelspec": {
   "display_name": "Python 3 (ipykernel)",
   "language": "python",
   "name": "python3"
  },
  "language_info": {
   "codemirror_mode": {
    "name": "ipython",
    "version": 3
   },
   "file_extension": ".py",
   "mimetype": "text/x-python",
   "name": "python",
   "nbconvert_exporter": "python",
   "pygments_lexer": "ipython3",
   "version": "3.9.18"
  }
 },
 "nbformat": 4,
 "nbformat_minor": 5
}
