{
 "cells": [
  {
   "cell_type": "markdown",
   "id": "620b1bb9-d188-4916-8a88-392b301e78dd",
   "metadata": {},
   "source": [
    "## mindspore.ops.arange(start=0, end=None, step=1, *, dtype=None) -〉 Tensor\n",
    "- 输入：  \n",
    "    * start、end和step参数都必须是float、int或mindspore的tensor(shape为（）)。  \n",
    "    * dtype为mindspore.dtype类型。\n",
    "- 返回：一维Tensor。"
   ]
  },
  {
   "cell_type": "code",
   "execution_count": 1,
   "id": "518c829d-80a5-4d98-b90c-09635ae35665",
   "metadata": {},
   "outputs": [
    {
     "name": "stdout",
     "output_type": "stream",
     "text": [
      "mindspore output -> [0 1 2 3 4]\n",
      "torch     output -> tensor([0, 1, 2, 3, 4])\n",
      "jax       output -> [0 1 2 3 4]\n"
     ]
    }
   ],
   "source": [
    "import numpy as np\n",
    "import mindspore as ms\n",
    "import torch\n",
    "import jax.numpy as jnp\n",
    "\n",
    "y1 = ms.ops.arange(5)\n",
    "y2 = torch.arange(5)\n",
    "y3 = jnp.arange(5)\n",
    "print ('mindspore output ->',y1)\n",
    "print ('torch     output ->',y2)\n",
    "print ('jax       output ->',y3)"
   ]
  },
  {
   "cell_type": "code",
   "execution_count": 3,
   "id": "5ed726b0-b4d9-409a-b9f2-80051a1ce05e",
   "metadata": {
    "scrolled": true
   },
   "outputs": [
    {
     "name": "stdout",
     "output_type": "stream",
     "text": [
      "mindspore output -> [1.  1.5 2. ]\n",
      "torch     output -> tensor([1.0000, 1.5000, 2.0000])\n",
      "jax       output -> [1.  1.5 2. ]\n"
     ]
    }
   ],
   "source": [
    "y1 = ms.ops.arange(1, 2.5, 0.5)\n",
    "y2 = torch.arange(1, 2.5, 0.5)\n",
    "y3 = jnp.arange(1, 2.5, 0.5)\n",
    "print ('mindspore output ->',y1)\n",
    "print ('torch     output ->',y2)\n",
    "print ('jax       output ->',y3)"
   ]
  },
  {
   "cell_type": "markdown",
   "id": "5b540cc3-bcac-45d8-815c-b4c9ae90c03b",
   "metadata": {},
   "source": [
    "三种框架输出一致，ms与jax没有显示类型。"
   ]
  },
  {
   "cell_type": "markdown",
   "id": "04953dd7-69ab-4ac7-bf05-80c2a62668a2",
   "metadata": {},
   "source": [
    "ms与torch可以传tensor："
   ]
  },
  {
   "cell_type": "code",
   "execution_count": 12,
   "id": "1425a6ad-ca48-4f4a-af41-aaace99ecda9",
   "metadata": {},
   "outputs": [
    {
     "name": "stdout",
     "output_type": "stream",
     "text": [
      "mindspore output -> [0. 1. 2. 3. 4. 5.]\n",
      "torch     output -> tensor([0., 1., 2., 3., 4., 5.])\n"
     ]
    }
   ],
   "source": [
    "y1 = ms.ops.arange(ms.tensor(6.0, dtype=ms.float64))\n",
    "y2 = torch.arange(torch.tensor(6.0, dtype=torch.float64))\n",
    "print ('mindspore output ->',y1)\n",
    "print ('torch     output ->',y2)"
   ]
  },
  {
   "cell_type": "code",
   "execution_count": 13,
   "id": "b4201782",
   "metadata": {
    "scrolled": true
   },
   "outputs": [
    {
     "ename": "TypeError",
     "evalue": "For arange, the input type must be int or float or a TensorScalar in [mindspore.int32, mindspore.float32, mindspore.int64, mindspore.float64], but got List[Int64*3]",
     "output_type": "error",
     "traceback": [
      "\u001b[0;31m---------------------------------------------------------------------------\u001b[0m",
      "\u001b[0;31mTypeError\u001b[0m                                 Traceback (most recent call last)",
      "Cell \u001b[0;32mIn[13], line 1\u001b[0m\n\u001b[0;32m----> 1\u001b[0m y1 \u001b[38;5;241m=\u001b[39m \u001b[43mms\u001b[49m\u001b[38;5;241;43m.\u001b[39;49m\u001b[43mops\u001b[49m\u001b[38;5;241;43m.\u001b[39;49m\u001b[43marange\u001b[49m\u001b[43m(\u001b[49m\u001b[43m[\u001b[49m\u001b[38;5;241;43m2\u001b[39;49m\u001b[43m,\u001b[49m\u001b[38;5;241;43m1\u001b[39;49m\u001b[43m,\u001b[49m\u001b[38;5;241;43m3\u001b[39;49m\u001b[43m]\u001b[49m\u001b[43m)\u001b[49m\n",
      "File \u001b[0;32m/opt/anaconda3/envs/mindspore/lib/python3.9/site-packages/mindspore/ops/function/array_func.py:272\u001b[0m, in \u001b[0;36marange\u001b[0;34m(start, end, step, dtype)\u001b[0m\n\u001b[1;32m    270\u001b[0m \u001b[38;5;28;01mif\u001b[39;00m end \u001b[38;5;129;01mis\u001b[39;00m \u001b[38;5;28;01mNone\u001b[39;00m:\n\u001b[1;32m    271\u001b[0m     start, end \u001b[38;5;241m=\u001b[39m \u001b[38;5;241m0\u001b[39m, start\n\u001b[0;32m--> 272\u001b[0m max_type \u001b[38;5;241m=\u001b[39m \u001b[43m_get_max_type\u001b[49m\u001b[43m(\u001b[49m\u001b[43mstart\u001b[49m\u001b[43m,\u001b[49m\u001b[43m \u001b[49m\u001b[43mend\u001b[49m\u001b[43m,\u001b[49m\u001b[43m \u001b[49m\u001b[43mstep\u001b[49m\u001b[43m)\u001b[49m\n\u001b[1;32m    273\u001b[0m start \u001b[38;5;241m=\u001b[39m _cast_type(start, max_type)\n\u001b[1;32m    274\u001b[0m end \u001b[38;5;241m=\u001b[39m _cast_type(end, max_type)\n",
      "File \u001b[0;32m/opt/anaconda3/envs/mindspore/lib/python3.9/site-packages/mindspore/ops/function/array_func.py:198\u001b[0m, in \u001b[0;36m_get_max_type\u001b[0;34m(start, end, step)\u001b[0m\n\u001b[1;32m    195\u001b[0m \u001b[38;5;28;01mfor\u001b[39;00m arg_value \u001b[38;5;129;01min\u001b[39;00m arg_map:\n\u001b[1;32m    196\u001b[0m     \u001b[38;5;28;01mif\u001b[39;00m \u001b[38;5;129;01mnot\u001b[39;00m (\u001b[38;5;28misinstance\u001b[39m(arg_value, (\u001b[38;5;28mfloat\u001b[39m, \u001b[38;5;28mint\u001b[39m))\n\u001b[1;32m    197\u001b[0m             \u001b[38;5;129;01mor\u001b[39;00m (\u001b[38;5;28misinstance\u001b[39m(arg_value, Tensor) \u001b[38;5;129;01mand\u001b[39;00m arg_value\u001b[38;5;241m.\u001b[39mdtype \u001b[38;5;129;01min\u001b[39;00m valid_dtypes)):\n\u001b[0;32m--> 198\u001b[0m         \u001b[38;5;28;01mraise\u001b[39;00m \u001b[38;5;167;01mTypeError\u001b[39;00m(\n\u001b[1;32m    199\u001b[0m             \u001b[38;5;124mf\u001b[39m\u001b[38;5;124m\"\u001b[39m\u001b[38;5;124mFor arange, the input type must be int or float or a TensorScalar in \u001b[39m\u001b[38;5;132;01m{\u001b[39;00mvalid_dtypes\u001b[38;5;132;01m}\u001b[39;00m\u001b[38;5;124m,\u001b[39m\u001b[38;5;124m\"\u001b[39m\n\u001b[1;32m    200\u001b[0m             \u001b[38;5;124mf\u001b[39m\u001b[38;5;124m\"\u001b[39m\u001b[38;5;124m but got \u001b[39m\u001b[38;5;132;01m{\u001b[39;00m_get_type(arg_value)\u001b[38;5;132;01m}\u001b[39;00m\u001b[38;5;124m\"\u001b[39m)\n\u001b[1;32m    202\u001b[0m type_map \u001b[38;5;241m=\u001b[39m {\u001b[38;5;124m'\u001b[39m\u001b[38;5;124mFloat64\u001b[39m\u001b[38;5;124m'\u001b[39m: \u001b[38;5;124m'\u001b[39m\u001b[38;5;124m3\u001b[39m\u001b[38;5;124m'\u001b[39m, \u001b[38;5;124m'\u001b[39m\u001b[38;5;124mFloat32\u001b[39m\u001b[38;5;124m'\u001b[39m: \u001b[38;5;124m'\u001b[39m\u001b[38;5;124m2\u001b[39m\u001b[38;5;124m'\u001b[39m, \u001b[38;5;124m\"\u001b[39m\u001b[38;5;124m<class \u001b[39m\u001b[38;5;124m'\u001b[39m\u001b[38;5;124mfloat\u001b[39m\u001b[38;5;124m'\u001b[39m\u001b[38;5;124m>\u001b[39m\u001b[38;5;124m\"\u001b[39m: \u001b[38;5;124m'\u001b[39m\u001b[38;5;124m2\u001b[39m\u001b[38;5;124m'\u001b[39m, \u001b[38;5;124m'\u001b[39m\u001b[38;5;124mInt64\u001b[39m\u001b[38;5;124m'\u001b[39m: \u001b[38;5;124m'\u001b[39m\u001b[38;5;124m1\u001b[39m\u001b[38;5;124m'\u001b[39m, \u001b[38;5;124m\"\u001b[39m\u001b[38;5;124m<class \u001b[39m\u001b[38;5;124m'\u001b[39m\u001b[38;5;124mint\u001b[39m\u001b[38;5;124m'\u001b[39m\u001b[38;5;124m>\u001b[39m\u001b[38;5;124m\"\u001b[39m: \u001b[38;5;124m'\u001b[39m\u001b[38;5;124m1\u001b[39m\u001b[38;5;124m'\u001b[39m,\n\u001b[1;32m    203\u001b[0m             \u001b[38;5;124m'\u001b[39m\u001b[38;5;124mInt32\u001b[39m\u001b[38;5;124m'\u001b[39m: \u001b[38;5;124m'\u001b[39m\u001b[38;5;124m0\u001b[39m\u001b[38;5;124m'\u001b[39m}\n\u001b[1;32m    204\u001b[0m type_map_reverse \u001b[38;5;241m=\u001b[39m {\u001b[38;5;124m'\u001b[39m\u001b[38;5;124m3\u001b[39m\u001b[38;5;124m'\u001b[39m: mstype\u001b[38;5;241m.\u001b[39mfloat64,\n\u001b[1;32m    205\u001b[0m                     \u001b[38;5;124m'\u001b[39m\u001b[38;5;124m2\u001b[39m\u001b[38;5;124m'\u001b[39m: mstype\u001b[38;5;241m.\u001b[39mfloat32, \u001b[38;5;124m'\u001b[39m\u001b[38;5;124m1\u001b[39m\u001b[38;5;124m'\u001b[39m: mstype\u001b[38;5;241m.\u001b[39mint64, \u001b[38;5;124m'\u001b[39m\u001b[38;5;124m0\u001b[39m\u001b[38;5;124m'\u001b[39m: mstype\u001b[38;5;241m.\u001b[39mint32}\n",
      "\u001b[0;31mTypeError\u001b[0m: For arange, the input type must be int or float or a TensorScalar in [mindspore.int32, mindspore.float32, mindspore.int64, mindspore.float64], but got List[Int64*3]"
     ]
    }
   ],
   "source": [
    "y1 = ms.ops.arange([2,1,3])"
   ]
  },
  {
   "cell_type": "code",
   "execution_count": 14,
   "id": "cceca433",
   "metadata": {
    "scrolled": true
   },
   "outputs": [
    {
     "ename": "TypeError",
     "evalue": "arange(): argument 'end' (position 1) must be Number, not list",
     "output_type": "error",
     "traceback": [
      "\u001b[0;31m---------------------------------------------------------------------------\u001b[0m",
      "\u001b[0;31mTypeError\u001b[0m                                 Traceback (most recent call last)",
      "Cell \u001b[0;32mIn[14], line 1\u001b[0m\n\u001b[0;32m----> 1\u001b[0m y2 \u001b[38;5;241m=\u001b[39m \u001b[43mtorch\u001b[49m\u001b[38;5;241;43m.\u001b[39;49m\u001b[43marange\u001b[49m\u001b[43m(\u001b[49m\u001b[43m[\u001b[49m\u001b[38;5;241;43m2\u001b[39;49m\u001b[43m,\u001b[49m\u001b[38;5;241;43m1\u001b[39;49m\u001b[43m,\u001b[49m\u001b[38;5;241;43m3\u001b[39;49m\u001b[43m]\u001b[49m\u001b[43m)\u001b[49m\n",
      "\u001b[0;31mTypeError\u001b[0m: arange(): argument 'end' (position 1) must be Number, not list"
     ]
    }
   ],
   "source": [
    "y2 = torch.arange([2,1,3])"
   ]
  },
  {
   "cell_type": "code",
   "execution_count": 15,
   "id": "e0b732f3-27f6-4b1d-a67d-c88dbaede732",
   "metadata": {
    "scrolled": true
   },
   "outputs": [
    {
     "ename": "TypeError",
     "evalue": "arange requires ndarray or scalar arguments, got <class 'list'> at position 0.",
     "output_type": "error",
     "traceback": [
      "\u001b[0;31m---------------------------------------------------------------------------\u001b[0m",
      "\u001b[0;31mTypeError\u001b[0m                                 Traceback (most recent call last)",
      "Cell \u001b[0;32mIn[15], line 1\u001b[0m\n\u001b[0;32m----> 1\u001b[0m y3 \u001b[38;5;241m=\u001b[39m \u001b[43mjnp\u001b[49m\u001b[38;5;241;43m.\u001b[39;49m\u001b[43marange\u001b[49m\u001b[43m(\u001b[49m\u001b[43m[\u001b[49m\u001b[38;5;241;43m2\u001b[39;49m\u001b[43m,\u001b[49m\u001b[38;5;241;43m1\u001b[39;49m\u001b[43m,\u001b[49m\u001b[38;5;241;43m3\u001b[39;49m\u001b[43m]\u001b[49m\u001b[43m)\u001b[49m\n",
      "File \u001b[0;32m/opt/anaconda3/envs/mindspore/lib/python3.9/site-packages/jax/_src/numpy/lax_numpy.py:3552\u001b[0m, in \u001b[0;36marange\u001b[0;34m(start, stop, step, dtype)\u001b[0m\n\u001b[1;32m   3550\u001b[0m dtypes\u001b[38;5;241m.\u001b[39mcheck_user_dtype_supported(dtype, \u001b[38;5;124m\"\u001b[39m\u001b[38;5;124marange\u001b[39m\u001b[38;5;124m\"\u001b[39m)\n\u001b[1;32m   3551\u001b[0m \u001b[38;5;28;01mif\u001b[39;00m \u001b[38;5;129;01mnot\u001b[39;00m config\u001b[38;5;241m.\u001b[39mdynamic_shapes\u001b[38;5;241m.\u001b[39mvalue:\n\u001b[0;32m-> 3552\u001b[0m   \u001b[43mutil\u001b[49m\u001b[38;5;241;43m.\u001b[39;49m\u001b[43mcheck_arraylike\u001b[49m\u001b[43m(\u001b[49m\u001b[38;5;124;43m\"\u001b[39;49m\u001b[38;5;124;43marange\u001b[39;49m\u001b[38;5;124;43m\"\u001b[39;49m\u001b[43m,\u001b[49m\u001b[43m \u001b[49m\u001b[43mstart\u001b[49m\u001b[43m)\u001b[49m\n\u001b[1;32m   3553\u001b[0m   \u001b[38;5;28;01mif\u001b[39;00m stop \u001b[38;5;129;01mis\u001b[39;00m \u001b[38;5;28;01mNone\u001b[39;00m \u001b[38;5;129;01mand\u001b[39;00m step \u001b[38;5;129;01mis\u001b[39;00m \u001b[38;5;28;01mNone\u001b[39;00m:\n\u001b[1;32m   3554\u001b[0m     start \u001b[38;5;241m=\u001b[39m core\u001b[38;5;241m.\u001b[39mconcrete_or_error(\u001b[38;5;28;01mNone\u001b[39;00m, start, \u001b[38;5;124m\"\u001b[39m\u001b[38;5;124mIt arose in the jnp.arange argument \u001b[39m\u001b[38;5;124m'\u001b[39m\u001b[38;5;124mstop\u001b[39m\u001b[38;5;124m'\u001b[39m\u001b[38;5;124m\"\u001b[39m)\n",
      "File \u001b[0;32m/opt/anaconda3/envs/mindspore/lib/python3.9/site-packages/jax/_src/numpy/util.py:335\u001b[0m, in \u001b[0;36mcheck_arraylike\u001b[0;34m(fun_name, emit_warning, stacklevel, *args)\u001b[0m\n\u001b[1;32m    332\u001b[0m   warnings\u001b[38;5;241m.\u001b[39mwarn(msg \u001b[38;5;241m+\u001b[39m \u001b[38;5;124m\"\u001b[39m\u001b[38;5;124m In a future JAX release this will be an error.\u001b[39m\u001b[38;5;124m\"\u001b[39m,\n\u001b[1;32m    333\u001b[0m                 category\u001b[38;5;241m=\u001b[39m\u001b[38;5;167;01mDeprecationWarning\u001b[39;00m, stacklevel\u001b[38;5;241m=\u001b[39mstacklevel)\n\u001b[1;32m    334\u001b[0m \u001b[38;5;28;01melse\u001b[39;00m:\n\u001b[0;32m--> 335\u001b[0m   \u001b[38;5;28;01mraise\u001b[39;00m \u001b[38;5;167;01mTypeError\u001b[39;00m(msg\u001b[38;5;241m.\u001b[39mformat(fun_name, \u001b[38;5;28mtype\u001b[39m(arg), pos))\n",
      "\u001b[0;31mTypeError\u001b[0m: arange requires ndarray or scalar arguments, got <class 'list'> at position 0."
     ]
    }
   ],
   "source": [
    "y3 = jnp.arange([2,1,3])"
   ]
  },
  {
   "cell_type": "markdown",
   "id": "6fb1beed-8c35-41bd-9dce-91bcf511f5a0",
   "metadata": {},
   "source": [
    "当参数类型不匹配时：    \n",
    "报错信息ms较长，建议优化仅保留ValueError的有效信息。"
   ]
  }
 ],
 "metadata": {
  "kernelspec": {
   "display_name": "Python 3 (ipykernel)",
   "language": "python",
   "name": "python3"
  },
  "language_info": {
   "codemirror_mode": {
    "name": "ipython",
    "version": 3
   },
   "file_extension": ".py",
   "mimetype": "text/x-python",
   "name": "python",
   "nbconvert_exporter": "python",
   "pygments_lexer": "ipython3",
   "version": "3.9.18"
  }
 },
 "nbformat": 4,
 "nbformat_minor": 5
}
