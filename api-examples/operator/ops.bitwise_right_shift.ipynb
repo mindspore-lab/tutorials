{
 "cells": [
  {
   "cell_type": "markdown",
   "id": "620b1bb9-d188-4916-8a88-392b301e78dd",
   "metadata": {},
   "source": [
    "## mindspore.ops.bitwise_right_shift(input, other) -〉 Tensor\n",
    "- 输入：\n",
    "    * input必须是mindspore的tensor、int或bool类型。\n",
    "    * other必须是mindspore的tensor、int或bool类型。\n",
    "- 返回：tensor类型。"
   ]
  },
  {
   "cell_type": "code",
   "execution_count": 1,
   "id": "518c829d-80a5-4d98-b90c-09635ae35665",
   "metadata": {},
   "outputs": [
    {
     "name": "stdout",
     "output_type": "stream",
     "text": [
      "mindspore output -> [-1 -2  0]\n",
      "torch     output -> tensor([-1, -2,  0])\n",
      "jax       output -> [-1 -2  0]\n"
     ]
    }
   ],
   "source": [
    "import numpy as np\n",
    "import mindspore as ms\n",
    "import torch\n",
    "import jax.numpy as jnp\n",
    "input = np.array([-1, -2, 3])\n",
    "other = np.array([1, 0, 3])\n",
    "\n",
    "y1 = ms.ops.bitwise_right_shift(ms.tensor(input), ms.tensor(other))\n",
    "y2 = torch.bitwise_right_shift(torch.tensor(input), torch.tensor(other))\n",
    "y3 = jnp.bitwise_right_shift(input, other)\n",
    "print ('mindspore output ->',y1)\n",
    "print ('torch     output ->',y2)\n",
    "print ('jax       output ->',y3)"
   ]
  },
  {
   "cell_type": "markdown",
   "id": "5b540cc3-bcac-45d8-815c-b4c9ae90c03b",
   "metadata": {},
   "source": [
    "ms与jax没有显示类型。"
   ]
  },
  {
   "cell_type": "markdown",
   "id": "0fa9e846-419e-4e3c-924e-1fa100f47ac2",
   "metadata": {},
   "source": [
    "当other为int时："
   ]
  },
  {
   "cell_type": "code",
   "execution_count": 4,
   "id": "6ef7f317-a0f4-49c9-b16c-2a62beba332f",
   "metadata": {},
   "outputs": [
    {
     "name": "stdout",
     "output_type": "stream",
     "text": [
      "mindspore output -> [-1 -1  1]\n",
      "torch     output -> tensor([-1, -1,  1])\n",
      "jax       output -> [-1 -1  1]\n"
     ]
    }
   ],
   "source": [
    "y1 = ms.ops.bitwise_right_shift(ms.tensor(input), 1)\n",
    "y2 = torch.bitwise_right_shift(torch.tensor(input), 1)\n",
    "y3 = jnp.bitwise_right_shift(input, 1)\n",
    "print ('mindspore output ->',y1)\n",
    "print ('torch     output ->',y2)\n",
    "print ('jax       output ->',y3)"
   ]
  },
  {
   "cell_type": "code",
   "execution_count": 2,
   "id": "b4201782",
   "metadata": {
    "scrolled": true
   },
   "outputs": [
    {
     "ename": "TypeError",
     "evalue": "For 'bitwise_left_shift', at least one of the inputs should be a Tensor.",
     "output_type": "error",
     "traceback": [
      "\u001b[0;31m---------------------------------------------------------------------------\u001b[0m",
      "\u001b[0;31mTypeError\u001b[0m                                 Traceback (most recent call last)",
      "\u001b[0;32m/var/folders/wy/5yzfdb6x7pvfxh89zcmf_w780000gn/T/ipykernel_58637/2584015797.py\u001b[0m in \u001b[0;36m?\u001b[0;34m()\u001b[0m\n\u001b[0;32m----> 1\u001b[0;31m \u001b[0my1\u001b[0m \u001b[0;34m=\u001b[0m \u001b[0mms\u001b[0m\u001b[0;34m.\u001b[0m\u001b[0mops\u001b[0m\u001b[0;34m.\u001b[0m\u001b[0mbitwise_right_shift\u001b[0m\u001b[0;34m(\u001b[0m\u001b[0minput\u001b[0m\u001b[0;34m,\u001b[0m \u001b[0mother\u001b[0m\u001b[0;34m)\u001b[0m\u001b[0;34m\u001b[0m\u001b[0;34m\u001b[0m\u001b[0m\n\u001b[0m",
      "\u001b[0;32m/opt/anaconda3/envs/mindspore/lib/python3.9/site-packages/mindspore/ops/function/math_func.py\u001b[0m in \u001b[0;36m?\u001b[0;34m(input, other)\u001b[0m\n\u001b[1;32m   2227\u001b[0m         \u001b[0;34m>>\u001b[0m\u001b[0;34m>\u001b[0m \u001b[0mprint\u001b[0m\u001b[0;34m(\u001b[0m\u001b[0moutput\u001b[0m\u001b[0;34m)\u001b[0m\u001b[0;34m\u001b[0m\u001b[0;34m\u001b[0m\u001b[0m\n\u001b[1;32m   2228\u001b[0m         \u001b[0;34m[\u001b[0m\u001b[0;36m256\u001b[0m   \u001b[0;36m0\u001b[0m\u001b[0;34m]\u001b[0m\u001b[0;34m\u001b[0m\u001b[0;34m\u001b[0m\u001b[0m\n\u001b[1;32m   2229\u001b[0m     \"\"\"\n\u001b[1;32m   2230\u001b[0m     \u001b[0;32mif\u001b[0m \u001b[0;32mnot\u001b[0m \u001b[0misinstance\u001b[0m\u001b[0;34m(\u001b[0m\u001b[0minput\u001b[0m\u001b[0;34m,\u001b[0m \u001b[0mTensor\u001b[0m\u001b[0;34m)\u001b[0m \u001b[0;32mand\u001b[0m \u001b[0;32mnot\u001b[0m \u001b[0misinstance\u001b[0m\u001b[0;34m(\u001b[0m\u001b[0mother\u001b[0m\u001b[0;34m,\u001b[0m \u001b[0mTensor\u001b[0m\u001b[0;34m)\u001b[0m\u001b[0;34m:\u001b[0m\u001b[0;34m\u001b[0m\u001b[0;34m\u001b[0m\u001b[0m\n\u001b[0;32m-> 2231\u001b[0;31m         \u001b[0;32mraise\u001b[0m \u001b[0mTypeError\u001b[0m\u001b[0;34m(\u001b[0m\u001b[0;34mf\"For 'bitwise_left_shift', at least one of the inputs should be a Tensor.\"\u001b[0m\u001b[0;34m)\u001b[0m\u001b[0;34m\u001b[0m\u001b[0;34m\u001b[0m\u001b[0m\n\u001b[0m\u001b[1;32m   2232\u001b[0m     \u001b[0mcast\u001b[0m \u001b[0;34m=\u001b[0m \u001b[0mops\u001b[0m\u001b[0;34m.\u001b[0m\u001b[0mCast\u001b[0m\u001b[0;34m(\u001b[0m\u001b[0;34m)\u001b[0m\u001b[0;34m\u001b[0m\u001b[0;34m\u001b[0m\u001b[0m\n\u001b[1;32m   2233\u001b[0m     \u001b[0;32mif\u001b[0m \u001b[0misinstance\u001b[0m\u001b[0;34m(\u001b[0m\u001b[0minput\u001b[0m\u001b[0;34m,\u001b[0m \u001b[0mnumbers\u001b[0m\u001b[0;34m.\u001b[0m\u001b[0mNumber\u001b[0m\u001b[0;34m)\u001b[0m\u001b[0;34m:\u001b[0m\u001b[0;34m\u001b[0m\u001b[0;34m\u001b[0m\u001b[0m\n\u001b[1;32m   2234\u001b[0m         \u001b[0;32mif\u001b[0m \u001b[0;32mnot\u001b[0m \u001b[0misinstance\u001b[0m\u001b[0;34m(\u001b[0m\u001b[0minput\u001b[0m\u001b[0;34m,\u001b[0m \u001b[0mint\u001b[0m\u001b[0;34m)\u001b[0m\u001b[0;34m:\u001b[0m\u001b[0;34m\u001b[0m\u001b[0;34m\u001b[0m\u001b[0m\n",
      "\u001b[0;31mTypeError\u001b[0m: For 'bitwise_left_shift', at least one of the inputs should be a Tensor."
     ]
    }
   ],
   "source": [
    "y1 = ms.ops.bitwise_right_shift(input, other)"
   ]
  },
  {
   "cell_type": "code",
   "execution_count": 3,
   "id": "cceca433",
   "metadata": {
    "scrolled": true
   },
   "outputs": [
    {
     "ename": "TypeError",
     "evalue": "bitwise_right_shift() received an invalid combination of arguments - got (numpy.ndarray, numpy.ndarray), but expected one of:\n * (Tensor input, Tensor other, *, Tensor out)\n * (Number self, Tensor other)\n      didn't match because some of the arguments have invalid types: (!numpy.ndarray!, !numpy.ndarray!)\n * (Tensor input, Number other, *, Tensor out)\n",
     "output_type": "error",
     "traceback": [
      "\u001b[0;31m---------------------------------------------------------------------------\u001b[0m",
      "\u001b[0;31mTypeError\u001b[0m                                 Traceback (most recent call last)",
      "Cell \u001b[0;32mIn[3], line 1\u001b[0m\n\u001b[0;32m----> 1\u001b[0m y2 \u001b[38;5;241m=\u001b[39m \u001b[43mtorch\u001b[49m\u001b[38;5;241;43m.\u001b[39;49m\u001b[43mbitwise_right_shift\u001b[49m\u001b[43m(\u001b[49m\u001b[38;5;28;43minput\u001b[39;49m\u001b[43m,\u001b[49m\u001b[43m \u001b[49m\u001b[43mother\u001b[49m\u001b[43m)\u001b[49m\n",
      "\u001b[0;31mTypeError\u001b[0m: bitwise_right_shift() received an invalid combination of arguments - got (numpy.ndarray, numpy.ndarray), but expected one of:\n * (Tensor input, Tensor other, *, Tensor out)\n * (Number self, Tensor other)\n      didn't match because some of the arguments have invalid types: (!numpy.ndarray!, !numpy.ndarray!)\n * (Tensor input, Number other, *, Tensor out)\n"
     ]
    }
   ],
   "source": [
    "y2 = torch.bitwise_right_shift(input, other)"
   ]
  },
  {
   "cell_type": "markdown",
   "id": "6fb1beed-8c35-41bd-9dce-91bcf511f5a0",
   "metadata": {},
   "source": [
    "当input为np.array时，ms与torch不支持。  \n",
    "报错信息ms较长，建议优化仅保留ValueError的有效信息。"
   ]
  }
 ],
 "metadata": {
  "kernelspec": {
   "display_name": "Python 3 (ipykernel)",
   "language": "python",
   "name": "python3"
  },
  "language_info": {
   "codemirror_mode": {
    "name": "ipython",
    "version": 3
   },
   "file_extension": ".py",
   "mimetype": "text/x-python",
   "name": "python",
   "nbconvert_exporter": "python",
   "pygments_lexer": "ipython3",
   "version": "3.9.18"
  }
 },
 "nbformat": 4,
 "nbformat_minor": 5
}
